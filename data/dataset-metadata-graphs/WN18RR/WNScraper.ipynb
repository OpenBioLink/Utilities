{
 "cells": [
  {
   "cell_type": "code",
   "execution_count": 6,
   "metadata": {},
   "outputs": [],
   "source": [
    "import rdflib\n",
    "from rdflib import Namespace\n",
    "from rdflib.namespace import DC, DCTERMS, DOAP, FOAF, SKOS, OWL, RDF, RDFS, VOID, XMLNS, XSD\n",
    "import os\n",
    "from os.path import exists\n",
    "import wget\n",
    "import urllib\n",
    "\n",
    "def quote(id):\n",
    "    return urllib.parse.quote(id, safe='@~():/')"
   ]
  },
  {
   "cell_type": "code",
   "execution_count": 7,
   "metadata": {},
   "outputs": [],
   "source": [
    "train_path = r\"cache\\train.txt\"\n",
    "test_path = r\"cache\\test.txt\"\n",
    "valid_path = r\"cache\\valid.txt\""
   ]
  },
  {
   "cell_type": "code",
   "execution_count": 9,
   "metadata": {},
   "outputs": [],
   "source": [
    "# https://everest.hds.utc.fr/lib/exe/fetch.php?media=en:wordnet-mlj12.tar.gz\n",
    "\n",
    "import requests\n",
    "import tarfile\n",
    "\n",
    "if not os.path.exists('cache'):\n",
    "    os.makedirs('cache')\n",
    "\n",
    "if not exists(\"cache/wordnet-mlj12.tar.gz\"):\n",
    "    url = \"https://everest.hds.utc.fr/lib/exe/fetch.php?media=en:wordnet-mlj12.tar.gz\"\n",
    "    response = requests.get(url, stream=True)\n",
    "    file = tarfile.open(fileobj=response.raw, mode=\"r|gz\")\n",
    "    file.extractall(path=\"cache\")\n",
    "\n",
    "if not exists(\"cache/WN18RR.tar.gz\"):\n",
    "    url = \"https://github.com/TimDettmers/ConvE/raw/master/WN18RR.tar.gz\"\n",
    "    wget.download(url, 'cache/WN18RR.tar.gz')\n",
    "    file = tarfile.open('cache/WN18RR.tar.gz')\n",
    "    file.extractall('./cache')\n",
    "    file.close()\n",
    "\n"
   ]
  },
  {
   "cell_type": "code",
   "execution_count": 7,
   "metadata": {
    "tags": []
   },
   "outputs": [],
   "source": [
    "content = None\n",
    "with open(\"./cache/wordnet-mlj12/wordnet-mlj12-definitions.txt\") as definitions:\n",
    "    content = definitions.readlines()\n",
    "content = [x.strip() for x in content]\n",
    "\n",
    "ai = Namespace(\"http://ai-strategies.org/kgc/\")\n",
    "\n",
    "g = rdflib.Graph()\n",
    "\n",
    "g.bind(\"ai\", ai)\n",
    "g.bind(\"rdf\", RDF)\n",
    "g.bind(\"rdfs\", RDFS)\n",
    "\n",
    "for line in content:\n",
    "    id, word, comment = line.split(\"\\t\")\n",
    "    word = word.replace(\"__\",\"\").split(\"_\")\n",
    "    entity = \" \".join(word[0:-2])\n",
    "    entity_type = word[-2]\n",
    "\n",
    "    g.add((\n",
    "        ai.term(id),\n",
    "        RDFS.label,\n",
    "        rdflib.Literal(entity, datatype=XSD.string)\n",
    "\n",
    "    ))\n",
    "\n",
    "    g.add((\n",
    "        ai.term(id),\n",
    "        RDF.type,\n",
    "        rdflib.Literal(entity_type, datatype=XSD.string)\n",
    "    ))\n",
    "\n",
    "    pos = {\n",
    "        \"NN\": \"n\",\n",
    "        \"VB\": \"v\",\n",
    "        \"JJ\": \"a\",\n",
    "        \"RB\": \"r\"\n",
    "    }\n",
    "\n",
    "    g.add((\n",
    "        ai.term(id),\n",
    "        ai.wwwresource,\n",
    "        rdflib.Literal(f\"http://wordnet-rdf.princeton.edu/pwn30/{id}-{pos[entity_type]}\", datatype=XSD.string)\n",
    "    ))\n",
    "\n",
    "    g.add((\n",
    "        ai.term(id),\n",
    "        RDFS.comment,\n",
    "        rdflib.Literal(comment, datatype=XSD.string)\n",
    "    ))\n"
   ]
  },
  {
   "cell_type": "code",
   "execution_count": 8,
   "metadata": {},
   "outputs": [],
   "source": [
    "\n",
    "relations = {\n",
    "    \"_hypernym\": \"has hypernym\",\n",
    "    \"_derivationally_related_form\": \"has derivationally related form\",\n",
    "    \"_instance_hypernym\": \"has instance hypernym\",\n",
    "    \"_also_see\": \"also see\",\n",
    "    \"_member_meronym\": \"is member of meronym\",\n",
    "    \"_synset_domain_topic_of\": \"is a synset domain topic of\",\n",
    "    \"_has_part\": \"has part\",\n",
    "    \"_member_of_domain_usage\": \"is member of domain usage\",\n",
    "    \"_member_of_domain_region\": \"is member of domain region\",\n",
    "    \"_verb_group\": \"part of same verb group as\",\n",
    "    \"_similar_to\": \"is similar to\"\n",
    "}\n",
    "\n",
    "for relation, label in relations.items():\n",
    "    g.add((\n",
    "        ai.term(relation),\n",
    "        RDFS.label,\n",
    "        rdflib.Literal(label, datatype=XSD.string)\n",
    "    ))\n"
   ]
  },
  {
   "cell_type": "code",
   "execution_count": 9,
   "metadata": {},
   "outputs": [],
   "source": [
    "g.serialize(os.path.abspath(r\"workspace/graphs/wn18rr.ttl\"),format=\"turtle\")"
   ]
  },
  {
   "cell_type": "code",
   "execution_count": 10,
   "metadata": {},
   "outputs": [],
   "source": [
    "\n",
    "outfile = open(r\"workspace/graphs/wn18rr.ttl\", 'a')\n",
    "\n",
    "def read_set(path, typ):\n",
    "    content = None\n",
    "    with open(path) as f:\n",
    "        content = f.readlines()\n",
    "    content = [x.strip() for x in content]\n",
    "    for line in content:\n",
    "        head,rel,tail = line.split(\"\\t\")\n",
    "        outfile.write(f\"<<<http://ai-strategies.org/kgc/{head}> <http://ai-strategies.org/kgc/{rel}> <http://ai-strategies.org/kgc/{tail}>>> ai:split ai:{typ} . \" + \"\\n\")\n",
    "\n",
    "read_set(train_path, 'train')\n",
    "read_set(test_path, 'test')\n",
    "read_set(valid_path, 'valid')\n",
    "\n",
    "outfile.close()"
   ]
  }
 ],
 "metadata": {
  "interpreter": {
   "hash": "6034a6f5458e8007054679e0d1bec28e1df169f2230ff36b046fe759a4786f17"
  },
  "kernelspec": {
   "display_name": "Python 3.7.9 64-bit",
   "name": "python3"
  },
  "language_info": {
   "codemirror_mode": {
    "name": "ipython",
    "version": 3
   },
   "file_extension": ".py",
   "mimetype": "text/x-python",
   "name": "python",
   "nbconvert_exporter": "python",
   "pygments_lexer": "ipython3",
   "version": "3.7.9"
  },
  "orig_nbformat": 4
 },
 "nbformat": 4,
 "nbformat_minor": 2
}
