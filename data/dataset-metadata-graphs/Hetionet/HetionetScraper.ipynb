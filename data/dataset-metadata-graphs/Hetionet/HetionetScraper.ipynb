{
 "cells": [
  {
   "cell_type": "code",
   "execution_count": 1,
   "metadata": {},
   "outputs": [],
   "source": [
    "import shutil\n",
    "import wget\n",
    "import bz2\n",
    "import json\n",
    "import os\n",
    "import sys\n",
    "import rdflib\n",
    "import zipfile\n",
    "from rdflib import Namespace\n",
    "from rdflib.namespace import DC, DCTERMS, DOAP, FOAF, SKOS, OWL, RDF, RDFS, VOID, XMLNS, XSD\n",
    "import urllib\n",
    "\n",
    "def quote(id):\n",
    "    return urllib.parse.quote(id, safe=';,/?:@&=+$-_.!~\\'()#')\n",
    "\n",
    "#create this bar_progress method which is invoked automatically from wget\n",
    "def bar_progress(current, total, width=80):\n",
    "  progress_message = \"Downloading: %d%% [%d / %d] bytes\" % (current / total * 100, current, total)\n",
    "  # Don't use print() as it will print in new line every time.\n",
    "  sys.stdout.write(\"\\r\" + progress_message)\n",
    "  sys.stdout.flush()\n",
    "\n",
    "def read_line(path, skip_first):\n",
    "    with open(path, encoding=\"utf8\") as infile:\n",
    "        c = 0\n",
    "        while True:\n",
    "            line = infile.readline()\n",
    "            if not line:\n",
    "                break\n",
    "            if c % 100000 == 0:\n",
    "                print(c)\n",
    "            c += 1\n",
    "            if skip_first and c == 1:\n",
    "                continue\n",
    "            yield line"
   ]
  },
  {
   "cell_type": "code",
   "execution_count": 2,
   "metadata": {},
   "outputs": [],
   "source": [
    "if not os.path.exists('cache'):\n",
    "    os.makedirs('cache')\n",
    "\n",
    "if not os.path.exists('cache/hetionet-v1.0.json'):\n",
    "    url = \"https://github.com/hetio/hetionet/raw/master/hetnet/json/hetionet-v1.0.json.bz2\"\n",
    "    wget.download(url, 'cache/hetionet-v1.0.json.bz2', bar=bar_progress)\n",
    "    with bz2.open(\"cache/hetionet-v1.0.json.bz2\", \"rt\") as f_in:\n",
    "        with open('cache/hetionet-v1.0.json', 'w') as f_out:\n",
    "            shutil.copyfileobj(f_in, f_out)\n",
    "\n",
    "if not os.path.exists('cache/train.txt'):\n",
    "    url = \"https://github.com/OpenBioLink/Utilities/raw/main/data/Hetionet/data.zip\"\n",
    "    wget.download(url, 'cache/data.zip', bar=bar_progress)\n",
    "    import zipfile\n",
    "    with zipfile.ZipFile('cache/data.zip', 'r') as zip_ref:\n",
    "        zip_ref.extractall('cache')\n",
    "\n",
    "if not os.path.exists('cache/metaedges.tsv'):\n",
    "    url = \"https://raw.githubusercontent.com/hetio/hetionet/master/describe/edges/metaedges.tsv\"\n",
    "    wget.download(url, 'cache/metaedges.tsv', bar=bar_progress)"
   ]
  },
  {
   "cell_type": "code",
   "execution_count": 3,
   "metadata": {},
   "outputs": [],
   "source": [
    "# Path setup\n",
    "train_path = r\"cache\\train.txt\"\n",
    "test_path = r\"cache\\test.txt\"\n",
    "valid_path = r\"cache\\valid.txt\""
   ]
  },
  {
   "cell_type": "code",
   "execution_count": 4,
   "metadata": {},
   "outputs": [],
   "source": [
    "\n",
    "ai = Namespace(\"https://ai-strategies.org/kgc/\")\n",
    "g = rdflib.Graph()\n",
    "g.bind(\"ai\", ai)\n",
    "g.bind(\"rdf\", RDF)\n",
    "g.bind(\"rdfs\", RDFS)"
   ]
  },
  {
   "cell_type": "code",
   "execution_count": 5,
   "metadata": {},
   "outputs": [
    {
     "name": "stdout",
     "output_type": "stream",
     "text": [
      "0\n"
     ]
    }
   ],
   "source": [
    "\n",
    "f = open('cache/hetionet-v1.0.json',)\n",
    "data = json.load(f)\n",
    "\n",
    "for node in data[\"nodes\"]:\n",
    "    kind = node['kind'].replace(\" \", \"_\")\n",
    "    id = f\"{kind}::{node['identifier']}\"\n",
    "\n",
    "    g.add((\n",
    "        ai.term(quote(id)),\n",
    "        RDFS.label,\n",
    "        rdflib.Literal(node[\"name\"], datatype=XSD.string)\n",
    "\n",
    "    ))\n",
    "    g.add((\n",
    "        ai.term(quote(id)),\n",
    "        RDF.type,\n",
    "        rdflib.Literal(node[\"kind\"], datatype=XSD.string)\n",
    "    ))\n",
    "    if \"url\" in node[\"data\"]:\n",
    "        g.add((\n",
    "            ai.term(quote(id)),\n",
    "            ai.wwwresource,\n",
    "            rdflib.Literal(node[\"data\"][\"url\"], datatype=XSD.string)\n",
    "        ))\n",
    "    if \"description\" in node[\"data\"]:\n",
    "        g.add((\n",
    "            ai.term(quote(id)),\n",
    "            RDFS.comment,\n",
    "            rdflib.Literal(node[\"data\"][\"description\"], datatype=XSD.string)\n",
    "        ))\n",
    "\n",
    "for line in read_line('cache/metaedges.tsv', skip_first=True):\n",
    "    relation, abb, _, _, _, _ = line.split(\"\\t\")\n",
    "    g.add((\n",
    "        ai.term(quote(abb)),\n",
    "        RDFS.label,\n",
    "        rdflib.Literal(relation, datatype=XSD.string)\n",
    "    ))\n",
    "\n"
   ]
  },
  {
   "cell_type": "code",
   "execution_count": 6,
   "metadata": {},
   "outputs": [],
   "source": [
    "g.serialize(os.path.abspath(r\"hetio.ttl\"),format=\"turtle\")"
   ]
  },
  {
   "cell_type": "code",
   "execution_count": null,
   "metadata": {},
   "outputs": [],
   "source": [
    "outfile = open(r\"hetio.ttl\", 'a')\n",
    "\n",
    "def read_set(path, typ):\n",
    "    content = None\n",
    "    with open(path) as f:\n",
    "        content = f.readlines()\n",
    "    content = [x.strip() for x in content]\n",
    "    for line in content:\n",
    "        head,rel,tail = line.split(\"\\t\")\n",
    "        outfile.write(f\"<<<https://ai-strategies.org/kgc/{quote(head)}> <https://ai-strategies.org/kgc/{quote(rel)}> <https://ai-strategies.org/kgc/{quote(tail)}>>> ai:split ai:{typ} . \" + \"\\n\")\n",
    "\n",
    "\n",
    "read_set(train_path, 'train')\n",
    "read_set(test_path, 'test')\n",
    "read_set(valid_path, 'valid')\n",
    "\n",
    "outfile.close()"
   ]
  },
  {
   "cell_type": "code",
   "execution_count": null,
   "metadata": {},
   "outputs": [],
   "source": [
    "zipObj = zipfile.ZipFile('data.zip', 'w')\n",
    "zipObj.write('hetio.ttl', 'hetio.ttl', zipfile.ZIP_DEFLATED)\n",
    "zipObj.close()"
   ]
  },
  {
   "cell_type": "code",
   "execution_count": null,
   "metadata": {},
   "outputs": [],
   "source": []
  }
 ],
 "metadata": {
  "interpreter": {
   "hash": "6034a6f5458e8007054679e0d1bec28e1df169f2230ff36b046fe759a4786f17"
  },
  "kernelspec": {
   "display_name": "Python 3.7.9 64-bit",
   "name": "python3"
  },
  "language_info": {
   "codemirror_mode": {
    "name": "ipython",
    "version": 3
   },
   "file_extension": ".py",
   "mimetype": "text/x-python",
   "name": "python",
   "nbconvert_exporter": "python",
   "pygments_lexer": "ipython3",
   "version": "3.7.9"
  },
  "orig_nbformat": 4
 },
 "nbformat": 4,
 "nbformat_minor": 2
}
