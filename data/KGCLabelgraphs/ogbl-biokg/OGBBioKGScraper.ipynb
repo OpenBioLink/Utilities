{
 "cells": [
  {
   "cell_type": "code",
   "execution_count": null,
   "source": [
    "url = \"http://snap.stanford.edu/ogb/data/linkproppred/biokg.zip\""
   ],
   "outputs": [],
   "metadata": {}
  }
 ],
 "metadata": {
  "orig_nbformat": 4,
  "language_info": {
   "name": "python"
  }
 },
 "nbformat": 4,
 "nbformat_minor": 2
}