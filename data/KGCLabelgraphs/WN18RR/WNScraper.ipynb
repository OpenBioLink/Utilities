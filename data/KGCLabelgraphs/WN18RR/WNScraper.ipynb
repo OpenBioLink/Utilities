{
 "metadata": {
  "language_info": {
   "codemirror_mode": {
    "name": "ipython",
    "version": 3
   },
   "file_extension": ".py",
   "mimetype": "text/x-python",
   "name": "python",
   "nbconvert_exporter": "python",
   "pygments_lexer": "ipython3",
   "version": "3.7.9"
  },
  "orig_nbformat": 4,
  "kernelspec": {
   "name": "python3",
   "display_name": "Python 3.7.9 64-bit"
  },
  "interpreter": {
   "hash": "6034a6f5458e8007054679e0d1bec28e1df169f2230ff36b046fe759a4786f17"
  }
 },
 "nbformat": 4,
 "nbformat_minor": 2,
 "cells": [
  {
   "cell_type": "code",
   "execution_count": 4,
   "source": [
    "import rdflib\r\n",
    "from rdflib import Namespace\r\n",
    "from rdflib.namespace import DC, DCTERMS, DOAP, FOAF, SKOS, OWL, RDF, RDFS, VOID, XMLNS, XSD\r\n",
    "import os"
   ],
   "outputs": [],
   "metadata": {}
  },
  {
   "cell_type": "code",
   "execution_count": 5,
   "source": [
    "train_path = r\"workspace\\data\\WN18RR\\train.txt\"\r\n",
    "test_path = r\"workspace\\data\\WN18RR\\test.txt\"\r\n",
    "valid_path = r\"workspace\\data\\WN18RR\\valid.txt\""
   ],
   "outputs": [],
   "metadata": {}
  },
  {
   "cell_type": "code",
   "execution_count": 3,
   "source": [
    "# https://everest.hds.utc.fr/lib/exe/fetch.php?media=en:wordnet-mlj12.tar.gz\r\n",
    "\r\n",
    "import requests\r\n",
    "import tarfile\r\n",
    "\r\n",
    "url = \"https://everest.hds.utc.fr/lib/exe/fetch.php?media=en:wordnet-mlj12.tar.gz\"\r\n",
    "response = requests.get(url, stream=True)\r\n",
    "file = tarfile.open(fileobj=response.raw, mode=\"r|gz\")\r\n",
    "file.extractall(path=\"./workspace/labels\")\r\n",
    "\r\n",
    "print(file)"
   ],
   "outputs": [
    {
     "output_type": "stream",
     "name": "stdout",
     "text": [
      "<tarfile.TarFile object at 0x00000258BAE588B0>\n"
     ]
    }
   ],
   "metadata": {}
  },
  {
   "cell_type": "code",
   "execution_count": 7,
   "source": [
    "content = None\r\n",
    "with open(\"./workspace/labels/wordnet-mlj12/wordnet-mlj12-definitions.txt\") as definitions:\r\n",
    "    content = definitions.readlines()\r\n",
    "content = [x.strip() for x in content]\r\n",
    "\r\n",
    "kg = Namespace(\"http://wordnet.princeton.edu/\")\r\n",
    "ai = Namespace(\"http://ai-strategies.org/ns/\")\r\n",
    "\r\n",
    "g = rdflib.Graph()\r\n",
    "\r\n",
    "g.bind(\"ai\", ai)\r\n",
    "g.bind(\"kg\", kg)\r\n",
    "g.bind(\"rdf\", RDF)\r\n",
    "g.bind(\"rdfs\", RDFS)\r\n",
    "\r\n",
    "for line in content:\r\n",
    "    id, word, comment = line.split(\"\\t\")\r\n",
    "    word = word.replace(\"__\",\"\").split(\"_\")\r\n",
    "    entity = \" \".join(word[0:-2])\r\n",
    "    entity_type = word[-2]\r\n",
    "\r\n",
    "    g.add((\r\n",
    "        kg.term(id),\r\n",
    "        RDFS.label,\r\n",
    "        rdflib.Literal(entity, datatype=XSD.string)\r\n",
    "\r\n",
    "    ))\r\n",
    "\r\n",
    "    g.add((\r\n",
    "        kg.term(id),\r\n",
    "        RDF.type,\r\n",
    "        rdflib.Literal(entity_type, datatype=XSD.string)\r\n",
    "    ))\r\n",
    "\r\n",
    "    pos = {\r\n",
    "        \"NN\": \"n\",\r\n",
    "        \"VB\": \"v\",\r\n",
    "        \"JJ\": \"a\",\r\n",
    "        \"RB\": \"r\"\r\n",
    "    }\r\n",
    "\r\n",
    "    g.add((\r\n",
    "        kg.term(id),\r\n",
    "        ai.wwwresource,\r\n",
    "        rdflib.Literal(f\"http://wordnet-rdf.princeton.edu/pwn30/{id}-{pos[entity_type]}\", datatype=XSD.string)\r\n",
    "    ))\r\n",
    "\r\n",
    "    g.add((\r\n",
    "        kg.term(id),\r\n",
    "        RDFS.comment,\r\n",
    "        rdflib.Literal(comment, datatype=XSD.string)\r\n",
    "    ))\r\n"
   ],
   "outputs": [],
   "metadata": {
    "tags": []
   }
  },
  {
   "cell_type": "code",
   "execution_count": 8,
   "source": [
    "\r\n",
    "relations = {\r\n",
    "    \"_hypernym\": \"has hypernym\",\r\n",
    "    \"_derivationally_related_form\": \"has derivationally related form\",\r\n",
    "    \"_instance_hypernym\": \"has instance hypernym\",\r\n",
    "    \"_also_see\": \"also see\",\r\n",
    "    \"_member_meronym\": \"is member of meronym\",\r\n",
    "    \"_synset_domain_topic_of\": \"is a synset domain topic of\",\r\n",
    "    \"_has_part\": \"has part\",\r\n",
    "    \"_member_of_domain_usage\": \"is member of domain usage\",\r\n",
    "    \"_member_of_domain_region\": \"is member of domain region\",\r\n",
    "    \"_verb_group\": \"part of same verb group as\",\r\n",
    "    \"_similar_to\": \"is similar to\"\r\n",
    "}\r\n",
    "\r\n",
    "for relation, label in relations.items():\r\n",
    "    g.add((\r\n",
    "        kg.term(relation),\r\n",
    "        RDFS.label,\r\n",
    "        rdflib.Literal(label, datatype=XSD.string)\r\n",
    "    ))\r\n"
   ],
   "outputs": [],
   "metadata": {}
  },
  {
   "cell_type": "code",
   "execution_count": 9,
   "source": [
    "g.serialize(os.path.abspath(r\"workspace/graphs/wn18rr.ttl\"),format=\"turtle\")"
   ],
   "outputs": [],
   "metadata": {}
  },
  {
   "cell_type": "code",
   "execution_count": 10,
   "source": [
    "\r\n",
    "outfile = open(r\"workspace/graphs/wn18rr.ttl\", 'a')\r\n",
    "\r\n",
    "def read_set(path, typ):\r\n",
    "    content = None\r\n",
    "    with open(path) as f:\r\n",
    "        content = f.readlines()\r\n",
    "    content = [x.strip() for x in content]\r\n",
    "    for line in content:\r\n",
    "        head,rel,tail = line.split(\"\\t\")\r\n",
    "        outfile.write(f\"<<<http://wordnet.princeton.edu/{head}> <http://wordnet.princeton.edu/{rel}> <http://wordnet.princeton.edu/{tail}>>> ai:split ai:{typ} . \" + \"\\n\")\r\n",
    "\r\n",
    "read_set(train_path, 'train')\r\n",
    "read_set(test_path, 'test')\r\n",
    "read_set(valid_path, 'valid')\r\n",
    "\r\n",
    "outfile.close()"
   ],
   "outputs": [],
   "metadata": {}
  }
 ]
}