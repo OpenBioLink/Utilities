{
 "cells": [
  {
   "cell_type": "code",
   "execution_count": null,
   "source": [
    "labels_path = r\"./workspace/labels\"\r\n",
    "graph_path = r\"./workspace/graphs\"\r\n",
    "edge_path = r\"C:\\Users\\ottsi\\Downloads\\HQ_DIR\\graph_files\\edges.csv\"\r\n",
    "\r\n",
    "train_path = r\"C:\\Users\\ottsi\\OneDrive\\MedUni\\OpenBioLink\\SAFRAN\\Evaluations\\Hetionet\\train.txt\"\r\n",
    "valid_path = r\"C:\\Users\\ottsi\\OneDrive\\MedUni\\OpenBioLink\\SAFRAN\\Evaluations\\Hetionet\\valid.txt\"\r\n",
    "test_path = r\"C:\\Users\\ottsi\\OneDrive\\MedUni\\OpenBioLink\\SAFRAN\\Evaluations\\Hetionet\\test.txt\""
   ],
   "outputs": [],
   "metadata": {}
  }
 ],
 "metadata": {
  "orig_nbformat": 4,
  "language_info": {
   "name": "python"
  }
 },
 "nbformat": 4,
 "nbformat_minor": 2
}