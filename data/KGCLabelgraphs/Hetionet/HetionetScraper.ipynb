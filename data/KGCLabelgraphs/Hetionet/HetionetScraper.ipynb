{
 "cells": [
  {
   "cell_type": "code",
   "execution_count": 39,
   "source": [
    "import shutil\r\n",
    "import wget\r\n",
    "import bz2\r\n",
    "import json\r\n",
    "import os\r\n",
    "import sys\r\n",
    "import rdflib\r\n",
    "import zipfile\r\n",
    "from rdflib import Namespace\r\n",
    "from rdflib.namespace import DC, DCTERMS, DOAP, FOAF, SKOS, OWL, RDF, RDFS, VOID, XMLNS, XSD\r\n",
    "from urllib.parse import quote\r\n",
    "\r\n",
    "#create this bar_progress method which is invoked automatically from wget\r\n",
    "def bar_progress(current, total, width=80):\r\n",
    "  progress_message = \"Downloading: %d%% [%d / %d] bytes\" % (current / total * 100, current, total)\r\n",
    "  # Don't use print() as it will print in new line every time.\r\n",
    "  sys.stdout.write(\"\\r\" + progress_message)\r\n",
    "  sys.stdout.flush()\r\n",
    "\r\n",
    "def read_line(path, skip_first):\r\n",
    "    with open(path, encoding=\"utf8\") as infile:\r\n",
    "        c = 0\r\n",
    "        while True:\r\n",
    "            line = infile.readline()\r\n",
    "            if not line:\r\n",
    "                break\r\n",
    "            if c % 100000 == 0:\r\n",
    "                print(c)\r\n",
    "            c += 1\r\n",
    "            if skip_first and c == 1:\r\n",
    "                continue\r\n",
    "            yield line"
   ],
   "outputs": [],
   "metadata": {}
  },
  {
   "cell_type": "code",
   "execution_count": 40,
   "source": [
    "if not os.path.exists('cache'):\r\n",
    "    os.makedirs('cache')\r\n",
    "\r\n",
    "if not os.path.exists('cache/hetionet-v1.0.json'):\r\n",
    "    #url = \"https://github.com/hetio/hetionet/raw/master/hetnet/json/hetionet-v1.0.json.bz2\"\r\n",
    "    #wget.download(url, 'cache/hetionet-v1.0.json.bz2', bar=bar_progress)\r\n",
    "    with bz2.open(\"cache/hetionet-v1.0.json.bz2\", \"rt\") as f_in:\r\n",
    "        with open('cache/hetionet-v1.0.json', 'w') as f_out:\r\n",
    "            shutil.copyfileobj(f_in, f_out)\r\n",
    "\r\n",
    "if not os.path.exists('cache/train.txt'):\r\n",
    "    url = \"https://github.com/OpenBioLink/Utilities/raw/main/data/Hetionet/data.zip\"\r\n",
    "    wget.download(url, 'cache/data.zip', bar=bar_progress)\r\n",
    "    import zipfile\r\n",
    "    with zipfile.ZipFile('cache/data.zip', 'r') as zip_ref:\r\n",
    "        zip_ref.extractall('cache')\r\n",
    "\r\n",
    "if not os.path.exists('cache/metaedges.tsv'):\r\n",
    "    url = \"https://raw.githubusercontent.com/hetio/hetionet/master/describe/edges/metaedges.tsv\"\r\n",
    "    wget.download(url, 'cache/metaedges.tsv', bar=bar_progress)"
   ],
   "outputs": [],
   "metadata": {}
  },
  {
   "cell_type": "code",
   "execution_count": 41,
   "source": [
    "# Path setup\r\n",
    "train_path = r\"cache\\train.txt\"\r\n",
    "test_path = r\"cache\\test.txt\"\r\n",
    "valid_path = r\"cache\\valid.txt\""
   ],
   "outputs": [],
   "metadata": {}
  },
  {
   "cell_type": "code",
   "execution_count": 42,
   "source": [
    "out = rdflib.Graph()\r\n",
    "out.bind(\"rdf\", RDF)\r\n",
    "out.bind(\"rdfs\", RDFS)\r\n",
    "ai = Namespace(\"http://ai-strategies.org/ns/\")\r\n",
    "out.bind(\"ai\", ai)\r\n",
    "\r\n",
    "g = rdflib.Graph()\r\n",
    "\r\n",
    "g.bind(\"ai\", ai)\r\n",
    "g.bind(\"rdf\", RDF)\r\n",
    "g.bind(\"rdfs\", RDFS)"
   ],
   "outputs": [],
   "metadata": {}
  },
  {
   "cell_type": "code",
   "execution_count": 43,
   "source": [
    "\r\n",
    "f = open('cache/hetionet-v1.0.json',)\r\n",
    "data = json.load(f)\r\n",
    "\r\n",
    "for node in data[\"nodes\"]:\r\n",
    "    kind = node['kind'].replace(\" \", \"\")\r\n",
    "    id = f\"{kind}::{node['identifier']}\"\r\n",
    "\r\n",
    "    g.add((\r\n",
    "        ai.term(quote(id)),\r\n",
    "        RDFS.label,\r\n",
    "        rdflib.Literal(node[\"name\"], datatype=XSD.string)\r\n",
    "\r\n",
    "    ))\r\n",
    "    g.add((\r\n",
    "        ai.term(quote(id)),\r\n",
    "        RDF.type,\r\n",
    "        rdflib.Literal(node[\"kind\"], datatype=XSD.string)\r\n",
    "    ))\r\n",
    "    if \"url\" in node[\"data\"]:\r\n",
    "        g.add((\r\n",
    "            ai.term(quote(id)),\r\n",
    "            ai.wwwresource,\r\n",
    "            rdflib.Literal(node[\"data\"][\"url\"], datatype=XSD.string)\r\n",
    "        ))\r\n",
    "    if \"description\" in node[\"data\"]:\r\n",
    "        g.add((\r\n",
    "            ai.term(quote(id)),\r\n",
    "            RDFS.comment,\r\n",
    "            rdflib.Literal(node[\"data\"][\"description\"], datatype=XSD.string)\r\n",
    "        ))\r\n",
    "\r\n",
    "for line in read_line('cache/metaedges.tsv', skip_first=True):\r\n",
    "    relation, abb, _, _, _, _ = line.split(\"\\t\")\r\n",
    "    g.add((\r\n",
    "        ai.term(quote(abb)),\r\n",
    "        RDFS.label,\r\n",
    "        rdflib.Literal(relation, datatype=XSD.string)\r\n",
    "    ))\r\n",
    "\r\n"
   ],
   "outputs": [
    {
     "output_type": "stream",
     "name": "stdout",
     "text": [
      "0\n"
     ]
    }
   ],
   "metadata": {}
  },
  {
   "cell_type": "code",
   "execution_count": 44,
   "source": [
    "g.serialize(os.path.abspath(r\"hetionet.ttl\"),format=\"turtle\")"
   ],
   "outputs": [],
   "metadata": {}
  },
  {
   "cell_type": "code",
   "execution_count": 45,
   "source": [
    "outfile = open(r\"hetionet.ttl\", 'a')\r\n",
    "\r\n",
    "def read_set(path, typ):\r\n",
    "    content = None\r\n",
    "    with open(path) as f:\r\n",
    "        content = f.readlines()\r\n",
    "    content = [x.strip() for x in content]\r\n",
    "    for line in content:\r\n",
    "        head,rel,tail = line.split(\"\\t\")\r\n",
    "        outfile.write(f\"<<<http://ai-strategies.org/ns/{quote(head)}> <http://ai-strategies.org/ns/{quote(rel)}> <http://ai-strategies.org/ns/{quote(tail)}>>> ai:split ai:{typ} . \" + \"\\n\")\r\n",
    "\r\n",
    "\r\n",
    "read_set(train_path, 'train')\r\n",
    "read_set(test_path, 'test')\r\n",
    "read_set(valid_path, 'valid')\r\n",
    "\r\n",
    "outfile.close()"
   ],
   "outputs": [],
   "metadata": {}
  },
  {
   "cell_type": "code",
   "execution_count": 46,
   "source": [
    "zipObj = zipfile.ZipFile('data.zip', 'w')\r\n",
    "zipObj.write('hetionet.ttl', 'hetionet.ttl', zipfile.ZIP_DEFLATED)\r\n",
    "zipObj.close()"
   ],
   "outputs": [],
   "metadata": {}
  },
  {
   "cell_type": "code",
   "execution_count": null,
   "source": [],
   "outputs": [],
   "metadata": {}
  }
 ],
 "metadata": {
  "orig_nbformat": 4,
  "language_info": {
   "name": "python",
   "version": "3.7.9",
   "mimetype": "text/x-python",
   "codemirror_mode": {
    "name": "ipython",
    "version": 3
   },
   "pygments_lexer": "ipython3",
   "nbconvert_exporter": "python",
   "file_extension": ".py"
  },
  "kernelspec": {
   "name": "python3",
   "display_name": "Python 3.7.9 64-bit"
  },
  "interpreter": {
   "hash": "6034a6f5458e8007054679e0d1bec28e1df169f2230ff36b046fe759a4786f17"
  }
 },
 "nbformat": 4,
 "nbformat_minor": 2
}