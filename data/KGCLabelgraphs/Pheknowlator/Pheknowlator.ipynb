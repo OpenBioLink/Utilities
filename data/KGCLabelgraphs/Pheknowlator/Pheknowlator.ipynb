{
 "cells": [
  {
   "cell_type": "code",
   "execution_count": 7,
   "metadata": {},
   "outputs": [],
   "source": [
    "import shutil\n",
    "import wget\n",
    "import bz2\n",
    "import sys\n",
    "import json\n",
    "import os\n",
    "import pickle\n",
    "import rdflib\n",
    "import zipfile\n",
    "from rdflib import Namespace\n",
    "from rdflib.term import URIRef\n",
    "from os.path import exists\n",
    "from rdflib.namespace import DC, DCTERMS, DOAP, FOAF, SKOS, OWL, RDF, RDFS, VOID, XMLNS, XSD\n",
    "import urllib\n",
    "\n",
    "def quote(id):\n",
    "    return urllib.parse.quote(id, safe=';,/?:@&=+$-_.!~\\'()#')\n",
    "\n",
    "#create this bar_progress method which is invoked automatically from wget\n",
    "def bar_progress(current, total, width=80):\n",
    "  progress_message = \"Downloading: %d%% [%d / %d] bytes\" % (current / total * 100, current, total)\n",
    "  # Don't use print() as it will print in new line every time.\n",
    "  sys.stdout.write(\"\\r\" + progress_message)\n",
    "  sys.stdout.flush()\n",
    "\n",
    "  # Methods\n",
    "def read_nodes(lst):\n",
    "    nodes = set()\n",
    "    for path in lst:\n",
    "        content = None\n",
    "        with open(path, encoding=\"utf8\") as f:\n",
    "            content = f.readlines()\n",
    "        content = [x.strip() for x in content]\n",
    "\n",
    "        for line in content:\n",
    "            head,rel,tail = line.split(\"\\t\")\n",
    "            nodes.add(head)\n",
    "            nodes.add(tail)\n",
    "    return nodes\n",
    "\n",
    "def read_line(path, skip_first):\n",
    "    with open(path, encoding=\"utf8\") as infile:\n",
    "        c = 0\n",
    "        while True:\n",
    "            line = infile.readline()\n",
    "            if not line:\n",
    "                break\n",
    "            if c % 100000 == 0:\n",
    "                print(c)\n",
    "            c += 1\n",
    "            if skip_first and c == 0:\n",
    "                continue\n",
    "            yield line"
   ]
  },
  {
   "cell_type": "code",
   "execution_count": 8,
   "metadata": {},
   "outputs": [],
   "source": [
    "# Path setup\n",
    "train_path = r\"cache\\train.txt\"\n",
    "test_path = r\"cache\\test.txt\"\n",
    "valid_path = r\"cache\\valid.txt\""
   ]
  },
  {
   "cell_type": "code",
   "execution_count": 9,
   "metadata": {},
   "outputs": [],
   "source": [
    "if not exists('cache'):\n",
    "    os.makedirs('cache')\n",
    "\n",
    "if not exists('cache/labels.txt'):\n",
    "    url = \"https://storage.googleapis.com/pheknowlator/archived_builds/release_v2.0.0/build_11FEB2021/knowledge_graphs/instance_builds/relations_only/owlnets/PheKnowLator_v2.0.0_full_instance_relationsOnly_OWLNETS_NodeLabels.txt\"\n",
    "    wget.download(url, 'cache/labels.txt', bar=bar_progress)\n",
    "\n",
    "if not exists('cache/train.txt'):\n",
    "    url = \"https://github.com/OpenBioLink/Utilities/raw/main/data/Pheknowlator/data.zip\"\n",
    "    wget.download(url, 'cache/data.zip', bar=bar_progress)\n",
    "    import zipfile\n",
    "    with zipfile.ZipFile('cache/data.zip', 'r') as zip_ref:\n",
    "        zip_ref.extractall('cache')\n"
   ]
  },
  {
   "cell_type": "code",
   "execution_count": 11,
   "metadata": {},
   "outputs": [
    {
     "name": "stdout",
     "output_type": "stream",
     "text": [
      "0\n",
      "100000\n",
      "200000\n",
      "300000\n",
      "400000\n",
      "500000\n",
      "600000\n",
      "700000\n"
     ]
    }
   ],
   "source": [
    "# Using this instead of RDFlib is muuch faster\n",
    "\n",
    "outfile = open(os.path.abspath(r\"pkl.ttl\"),\"w\",encoding=\"utf8\")\n",
    "\n",
    "outfile.write(\"@prefix ai: <https://ai-strategies.org/kgc/> .\\n@prefix rdfs: <http://www.w3.org/2000/01/rdf-schema#> .\\n@prefix xsd: <http://www.w3.org/2001/XMLSchema#> .\\n\\n\")\n",
    "\n",
    "for line in read_line('cache/labels.txt', skip_first = True):\n",
    "    entity_type, integer_id, entity_uri, label, description, synonym = line.split(\"\\t\")\n",
    "    label = label.replace('\\\"', '\\'')\n",
    "    description = description.replace('\\\"', '\\'')\n",
    "\n",
    "    if entity_type == \"NODES\":\n",
    "        outfile.write(f\"<https://ai-strategies.org/kgc/{quote(entity_uri)}> a \\\"Entity\\\"^^xsd:string ;\\n\")\n",
    "        outfile.write(f\"\\trdfs:label \\\"{label}\\\"^^xsd:string ;\\n\")\n",
    "        outfile.write(f\"\\trdfs:comment \\\"{description}\\\"^^xsd:string ;\\n\")\n",
    "        outfile.write(f\"\\tai:wwwresource \\\"{entity_uri[1:-1]}\\\"^^xsd:string .\\n\\n\")\n",
    "    elif entity_type == \"RELATIONS\":\n",
    "        outfile.write(f\"<https://ai-strategies.org/kgc/{quote(entity_uri)}> rdfs:label \\\"part_of\\\"^^xsd:string .\\n\\n\")\n",
    "\n",
    "outfile.close()"
   ]
  },
  {
   "cell_type": "code",
   "execution_count": 12,
   "metadata": {},
   "outputs": [],
   "source": [
    "outfile = open(r\"pkl.ttl\", 'a')\n",
    "\n",
    "def read_set(path, typ):\n",
    "    content = None\n",
    "    with open(path) as f:\n",
    "        content = f.readlines()\n",
    "    content = [x.strip() for x in content]\n",
    "    for line in content:\n",
    "        head,rel,tail = line.split(\"\\t\")\n",
    "        outfile.write(f\"<<<https://ai-strategies.org/kgc/{quote(head)}> <https://ai-strategies.org/kgc/{quote(rel)}> <https://ai-strategies.org/kgc/{quote(tail)}>>> ai:split ai:{typ} . \" + \"\\n\")\n",
    "\n",
    "read_set(train_path, 'train')\n",
    "read_set(test_path, 'test')\n",
    "read_set(valid_path, 'valid')\n",
    "\n",
    "outfile.close()"
   ]
  },
  {
   "cell_type": "code",
   "execution_count": 6,
   "metadata": {},
   "outputs": [],
   "source": [
    "zipObj = zipfile.ZipFile('data.zip', 'w')\n",
    "zipObj.write('pkl.ttl', 'pkl.ttl', zipfile.ZIP_DEFLATED)\n",
    "zipObj.close()"
   ]
  },
  {
   "cell_type": "code",
   "execution_count": null,
   "metadata": {},
   "outputs": [],
   "source": []
  }
 ],
 "metadata": {
  "interpreter": {
   "hash": "6034a6f5458e8007054679e0d1bec28e1df169f2230ff36b046fe759a4786f17"
  },
  "kernelspec": {
   "display_name": "Python 3.7.9 64-bit",
   "name": "python3"
  },
  "language_info": {
   "codemirror_mode": {
    "name": "ipython",
    "version": 3
   },
   "file_extension": ".py",
   "mimetype": "text/x-python",
   "name": "python",
   "nbconvert_exporter": "python",
   "pygments_lexer": "ipython3",
   "version": "3.7.9"
  },
  "orig_nbformat": 4
 },
 "nbformat": 4,
 "nbformat_minor": 2
}
