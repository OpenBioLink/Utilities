{
 "cells": [
  {
   "cell_type": "code",
   "execution_count": 32,
   "source": [
    "import json\r\n",
    "import requests\r\n",
    "from tqdm import tqdm\r\n",
    "\r\n",
    "import rdflib\r\n",
    "from rdflib import Namespace\r\n",
    "from rdflib.namespace import DC, DCTERMS, DOAP, FOAF, SKOS, OWL, RDF, RDFS, VOID, XMLNS, XSD\r\n",
    "\r\n",
    "def load_text_file(path):\r\n",
    "    content = None\r\n",
    "    with open(path, encoding=\"utf8\") as f:\r\n",
    "        content = f.readlines()\r\n",
    "    content = [x.strip() for x in content]\r\n",
    "    return content\r\n",
    "\r\n",
    "def load_tsv_id_file(path):\r\n",
    "    content = load_text_file(path)\r\n",
    "    ids2label = dict()\r\n",
    "    for line in content:\r\n",
    "        try:\r\n",
    "            code, label = line.split(\"\\t\")\r\n",
    "        except:\r\n",
    "            print(line)\r\n",
    "        ids2label[code] = label\r\n",
    "    return ids2label\r\n",
    "\r\n",
    "def add_node(node):\r\n",
    "    all_nodes.add(node)\r\n",
    "    if node.startswith(\"NCBIGENE:\"):\r\n",
    "        ncbigenes.add(node[len(\"NCBIGENE:\"):])\r\n",
    "    elif node.startswith(\"PUBCHEM.COMPOUND:\"):\r\n",
    "        pubchemcompounds.add(node[len(\"PUBCHEM.COMPOUND:\"):])\r\n",
    "    elif node.startswith(\"CL:\"):\r\n",
    "        clss.add(node)\r\n",
    "    elif node.startswith(\"GO:\"):\r\n",
    "        gos.add(node)\r\n",
    "    elif node.startswith(\"UBERON:\"):\r\n",
    "        uberons.add(node)\r\n",
    "    elif node.startswith(\"DOID:\"):\r\n",
    "        doids.add(node)\r\n",
    "    elif node.startswith(\"HP:\"):\r\n",
    "        hps.add(node)\r\n",
    "    elif node.startswith(\"KEGG:\"):\r\n",
    "        keggs.add(node)\r\n",
    "    elif node.startswith(\"REACTOME:\"):\r\n",
    "        reactomes.add(node)\r\n",
    "        \r\n",
    "def read_nodes(path):\r\n",
    "    content = None\r\n",
    "    with open(path) as f:\r\n",
    "        content = f.readlines()\r\n",
    "    content = [x.strip() for x in content]\r\n",
    "\r\n",
    "    for line in content:\r\n",
    "        head,rel,tail,_,_ = line.split(\"\\t\")\r\n",
    "        add_node(head)\r\n",
    "        add_node(tail)\r\n",
    "        \r\n",
    "def divide_chunks(l, n):\r\n",
    "    l = list(l)\r\n",
    "    for i in range(0, len(l), n): \r\n",
    "        yield l[i:i + n]"
   ],
   "outputs": [],
   "metadata": {}
  },
  {
   "cell_type": "code",
   "execution_count": 2,
   "source": [
    "labels_path = r\"./workspace/labels\"\r\n",
    "graph_path = r\"./workspace/graphs\"\r\n",
    "edge_path = r\"C:\\Users\\ottsi\\Downloads\\HQ_DIR\\graph_files\\edges.csv\"\r\n",
    "\r\n",
    "train_path = r\"C:\\Users\\ottsi\\OneDrive\\MedUni\\OpenBioLink\\SAFRAN\\Evaluations\\OBL\\train.txt\"\r\n",
    "valid_path = r\"C:\\Users\\ottsi\\OneDrive\\MedUni\\OpenBioLink\\SAFRAN\\Evaluations\\OBL\\valid.txt\"\r\n",
    "test_path = r\"C:\\Users\\ottsi\\OneDrive\\MedUni\\OpenBioLink\\SAFRAN\\Evaluations\\OBL\\test.txt\""
   ],
   "outputs": [],
   "metadata": {}
  },
  {
   "cell_type": "markdown",
   "source": [
    "## Read nodes from graph"
   ],
   "metadata": {}
  },
  {
   "cell_type": "code",
   "execution_count": 3,
   "source": [
    "all_nodes = set()\r\n",
    "ncbigenes = set()\r\n",
    "clss = set()\r\n",
    "uberons = set()\r\n",
    "gos = set()\r\n",
    "doids = set()\r\n",
    "hps = set()\r\n",
    "pubchemcompounds = set()\r\n",
    "keggs = set()\r\n",
    "reactomes = set()\r\n",
    "\r\n",
    "read_nodes(edge_path)"
   ],
   "outputs": [],
   "metadata": {}
  },
  {
   "cell_type": "markdown",
   "source": [
    "# APIs"
   ],
   "metadata": {}
  },
  {
   "cell_type": "markdown",
   "source": [
    "## NCBIGENE, PUBCHEM.COMPOUND"
   ],
   "metadata": {}
  },
  {
   "cell_type": "code",
   "execution_count": 7,
   "source": [
    "labels_file = open(f\"{labels_path}/obl_labels.txt\", \"w\", encoding=\"utf8\")\r\n",
    "descr_file = open(f\"{labels_path}/obl_descriptions.txt\", \"w\", encoding=\"utf8\")"
   ],
   "outputs": [],
   "metadata": {}
  },
  {
   "cell_type": "markdown",
   "source": [
    "## GENE"
   ],
   "metadata": {}
  },
  {
   "cell_type": "code",
   "execution_count": 11,
   "source": [
    "\r\n",
    "ontology = \"gene\"\r\n",
    "step_size = 500\r\n",
    "\r\n",
    "results = dict()\r\n",
    "count = 0\r\n",
    "ids_str = \"\"\r\n",
    "for x in tqdm(ncbigenes):\r\n",
    "    ids_str = ids_str + str(x) + \",\"\r\n",
    "    count = count + 1\r\n",
    "    if count >= step_size:\r\n",
    "        ids_str = ids_str[0:-1]\r\n",
    "        response = requests.post(f\"https://eutils.ncbi.nlm.nih.gov/entrez/eutils/efetch.fcgi?db={ontology}&rettype=docsum&retmode=json\", data={'id':f'{ids_str}'}, headers={'content-type': 'application/x-www-form-urlencoded'})\r\n",
    "        response_json = response.json()\r\n",
    "        for key,value in response_json[\"result\"].items():\r\n",
    "            if key != 'uids':\r\n",
    "                results[key] = value\r\n",
    "        ids_str = \"\"\r\n",
    "        count = 0\r\n",
    "\r\n",
    "if count > 0:\r\n",
    "    response = requests.post(f\"https://eutils.ncbi.nlm.nih.gov/entrez/eutils/efetch.fcgi?db={ontology}&rettype=docsum&retmode=json\", data={'id':f'{ids_str}'}, headers={'content-type': 'application/x-www-form-urlencoded'})\r\n",
    "    response_json = response.json()\r\n",
    "    for key,value in response_json[\"result\"].items():\r\n",
    "            if key != 'uids':\r\n",
    "                results[key] = value\r\n",
    "\r\n",
    "for x in results:\r\n",
    "    labels_file.write(\"NCBIGENE:\" + x + \"\\t\" + results[x][\"description\"] + \"\\n\")\r\n",
    "    if results[x][\"summary\"] != \"\":\r\n",
    "        descr_file.write(\"NCBIGENE:\" + x + \"\\t\" + results[x][\"summary\"] + \"\\n\")\r\n"
   ],
   "outputs": [
    {
     "output_type": "stream",
     "name": "stderr",
     "text": [
      "100%|██████████| 19598/19598 [02:59<00:00, 108.92it/s]\n"
     ]
    }
   ],
   "metadata": {
    "tags": []
   }
  },
  {
   "cell_type": "markdown",
   "source": [
    "## COMPOUND"
   ],
   "metadata": {}
  },
  {
   "cell_type": "code",
   "execution_count": 101,
   "source": [
    "# OLD???\r\n",
    "\r\n",
    "ids_str = []\r\n",
    "step_size = 10000\r\n",
    "count = 0\r\n",
    "\r\n",
    "for x in tqdm(pubchemcompounds):\r\n",
    "    ids_str.append('{\"cid\":\"' + x + '\"}')\r\n",
    "    count = count + 1\r\n",
    "    if count >= step_size:\r\n",
    "        ids_str = \",\".join(ids_str)\r\n",
    "        response = requests.post('https://pubchem.ncbi.nlm.nih.gov/sdq/sdqagent.cgi?infmt=json&outfmt=json', data={'query':'{\"select\":\"*\",\"collection\":\"compound\",\"where\":{\"ors\":[' + ids_str + ']},\"order\":[\"cid,asc\"],\"start\":1,\"limit\":10000,\"width\":1000000,\"listids\":0}'}, headers={'content-type': 'application/x-www-form-urlencoded'})\r\n",
    "        response_json = response.json()\r\n",
    "        for entry in response_json[\"SDQOutputSet\"][0][\"rows\"]:\r\n",
    "            labels_file.write(\"PUBCHEM.COMPOUND:\" + str(entry[\"cid\"]) + \"\\t\" + entry[\"cmpdname\"] + \"\\n\")\r\n",
    "\r\n",
    "        ids_str = []\r\n",
    "        count = 0\r\n",
    "\r\n",
    "if count > 0:\r\n",
    "    ids_str = \",\".join(ids_str)\r\n",
    "    response = requests.post('https://pubchem.ncbi.nlm.nih.gov/sdq/sdqagent.cgi?infmt=json&outfmt=json', data={'query':'{\"select\":\"*\",\"collection\":\"compound\",\"where\":{\"ors\":[' + ids_str + ']},\"order\":[\"cid,asc\"],\"start\":1,\"limit\":10000,\"width\":1000000,\"listids\":0}'}, headers={'content-type': 'application/x-www-form-urlencoded'})\r\n",
    "    response_json = response.json()\r\n",
    "\r\n",
    "    print(len(response_json[\"SDQOutputSet\"][0][\"rows\"]))\r\n",
    "    for entry in response_json[\"SDQOutputSet\"][0][\"rows\"]:\r\n",
    "        labels_file.write(\"PUBCHEM.COMPOUND:\" + str(entry[\"cid\"]) + \"\\t\" + entry[\"cmpdname\"] + \"\\n\")\r\n",
    "\r\n"
   ],
   "outputs": [
    {
     "output_type": "stream",
     "name": "stderr",
     "text": [
      "100%|██████████| 77635/77635 [02:37<00:00, 491.83it/s]\n",
      "7402\n"
     ]
    }
   ],
   "metadata": {
    "tags": []
   }
  },
  {
   "cell_type": "code",
   "execution_count": 6,
   "source": [
    "\"\"\"\r\n",
    "PUBCHEM.COMPOUND\r\n",
    "https://pubchem.ncbi.nlm.nih.gov/rest/pug/compound/cid/1983,1984/description/JSON\r\n",
    "https://pubchem.ncbi.nlm.nih.gov/rest/pug/compound/cid/1983,1984/synonyms/JSON\r\n",
    "\"\"\"\r\n",
    "\r\n",
    "json_file = open(f\"{labels_path}/compound.txt\", \"w\")\r\n",
    "json_file.write(\"[\\n\")\r\n",
    "results = []\r\n",
    "for x in tqdm(divide_chunks(pubchemcompounds, 10), total=int(len(pubchemcompounds)/10)):\r\n",
    "    ids_str = \",\".join(x)\r\n",
    "    response = requests.get(f\"https://pubchem.ncbi.nlm.nih.gov/rest/pug/compound/cid/{ids_str}/description/JSON\")\r\n",
    "    response_json = response.json()\r\n",
    "\r\n",
    "    results.extend(response_json[\"InformationList\"][\"Information\"])\r\n",
    "    json_file.write(json.dumps(response_json[\"InformationList\"][\"Information\"]) + \",\\n\")\r\n",
    "    json_file.flush()\r\n",
    "\r\n",
    "json_file.write(\"]\\n\")\r\n",
    "json_file.close()\r\n"
   ],
   "outputs": [
    {
     "output_type": "stream",
     "name": "stderr",
     "text": [
      "7764it [3:39:33,  1.70s/it]\n"
     ]
    }
   ],
   "metadata": {
    "tags": []
   }
  },
  {
   "cell_type": "code",
   "execution_count": 15,
   "source": [
    "from collections import defaultdict\r\n",
    "\r\n",
    "jayson = None\r\n",
    "with open(f\"{labels_path}/compound.txt\") as infile:\r\n",
    "    jayson = json.load(infile)\r\n",
    "\r\n",
    "\r\n",
    "cids = defaultdict(dict)\r\n",
    "\r\n",
    "for part in jayson:\r\n",
    "    for ele in part:\r\n",
    "        assert (\"Title\" in ele and \"Description\" not in ele) or (\"Title\" not in ele and \"Description\" in ele), \"Big oof\"\r\n",
    "        if \"Title\" in ele:\r\n",
    "            cids[ele[\"CID\"]][\"Title\"] = ele[\"Title\"]\r\n",
    "        elif \"Description\" in ele:\r\n",
    "            if \"Description\" not in cids[ele[\"CID\"]]:\r\n",
    "                cids[ele[\"CID\"]][\"Description\"] = []\r\n",
    "            cids[ele[\"CID\"]][\"Description\"].append(ele[\"Description\"])\r\n",
    "        else:\r\n",
    "            print(\"HM\")\r\n",
    "            print(ele)\r\n",
    "\r\n",
    "import json\r\n",
    "with open(f'{labels_path}/result.json', 'w') as fp:\r\n",
    "    json.dump(cids, fp, indent=4)\r\n"
   ],
   "outputs": [],
   "metadata": {
    "tags": []
   }
  },
  {
   "cell_type": "code",
   "execution_count": 10,
   "source": [
    "json_file = None\r\n",
    "with open(f'{labels_path}/result.json') as fp:\r\n",
    "    json_file = json.load(fp)\r\n",
    "\r\n",
    "for x in json_file:\r\n",
    "    labels_file.write(\"PUBCHEM.COMPOUND:\" + x + \"\\t\" + json_file[x][\"Title\"] + \"\\n\")\r\n",
    "    if \"Description\" in json_file[x] and len(json_file[x][\"Description\"]) > 0:\r\n",
    "        descr_file.write(\"PUBCHEM.COMPOUND:\" + x + \"\\t\" + json_file[x][\"Description\"][0] + \"\\n\")\r\n"
   ],
   "outputs": [],
   "metadata": {}
  },
  {
   "cell_type": "markdown",
   "source": [
    "## UBERON, HP, GO, DOID, CL"
   ],
   "metadata": {}
  },
  {
   "cell_type": "code",
   "execution_count": 9,
   "source": [
    "\r\n",
    "\r\n",
    "import requests\r\n",
    "import json\r\n",
    "\r\n",
    "\r\n",
    "\"\"\"\r\n",
    "uberon, hp, go, doid, cl\r\n",
    "\r\n",
    "# to prettify\r\n",
    "python -m json.tool uberon.txt uberon.json\r\n",
    "\r\n",
    "\"\"\"\r\n",
    "\r\n",
    "for ontology, ids in [(\"hp\", hps), (\"uberon\", uberons), (\"go\", gos), (\"doid\", doids), (\"cl\", clss)]:\r\n",
    "    print(ontology)\r\n",
    "    response = requests.get(f\"http://www.ebi.ac.uk/ols/api/ontologies/{ontology}/terms?page=0&size=500\")\r\n",
    "    totalPages = int(response.json()[\"page\"][\"totalPages\"])\r\n",
    "    for page in tqdm(range(0,totalPages)):\r\n",
    "        response = requests.get(f\"http://www.ebi.ac.uk/ols/api/ontologies/{ontology}/terms?page={page}&size=500\")\r\n",
    "        response_json = response.json()\r\n",
    "        for x in response_json[\"_embedded\"][\"terms\"]:\r\n",
    "            if x[\"obo_id\"] in ids:\r\n",
    "                labels_file.write(x[\"obo_id\"] + \"\\t\" + x[\"label\"] + \"\\n\")\r\n",
    "                if \"description\" in x and x[\"description\"] != None and len(x[\"description\"]) > 0:\r\n",
    "                    descr_file.write(x[\"obo_id\"] + \"\\t\" + x[\"description\"][0] + \"\\n\")\r\n",
    "                elif \"annotation\" in x and x[\"annotation\"] != None:\r\n",
    "                    if \"definition\" in x[\"annotation\"] and x[\"annotation\"][\"definition\"] != None and len(x[\"annotation\"][\"definition\"]) > 0:\r\n",
    "                        descr_file.write(x[\"obo_id\"] + \"\\t\" + x[\"annotation\"][\"definition\"][0] + \"\\n\")\r\n",
    "                elif \"obo_definition_citation\" in x and x[\"obo_definition_citation\"] != None and len(x[\"obo_definition_citation\"]) > 0:\r\n",
    "                        descr_file.write(x[\"obo_id\"] + \"\\t\" + x[\"obo_definition_citation\"][0][\"definition\"] + \"\\n\")\r\n"
   ],
   "outputs": [
    {
     "output_type": "stream",
     "name": "stdout",
     "text": [
      "hp\n",
      "100%|██████████| 53/53 [01:59<00:00,  2.26s/it]\n",
      "uberon\n",
      "100%|██████████| 32/32 [01:33<00:00,  2.93s/it]\n",
      "go\n",
      "100%|██████████| 102/102 [03:34<00:00,  2.10s/it]\n",
      "doid\n",
      "100%|██████████| 36/36 [01:47<00:00,  3.00s/it]\n",
      "cl\n",
      "100%|██████████| 21/21 [00:51<00:00,  2.46s/it]\n"
     ]
    }
   ],
   "metadata": {}
  },
  {
   "cell_type": "markdown",
   "source": [
    "## KEGG"
   ],
   "metadata": {}
  },
  {
   "cell_type": "code",
   "execution_count": 8,
   "source": [
    "\"\"\"\r\n",
    "KEGG\r\n",
    "KEGG:hsa00232 \r\n",
    "\r\n",
    "\"\"\"\r\n",
    "ontology = \"kegg\"\r\n",
    "response = requests.get(f\"http://rest.kegg.jp/list/pathway/hsa\")\r\n",
    "for x in tqdm(response.text.split(\"\\n\")):\r\n",
    "    if x != \"\":\r\n",
    "        code, label = x.split(\"\\t\")\r\n",
    "        code = code.replace(\"path:\", \"KEGG:\")\r\n",
    "        label = label.split(\" - \")[0]\r\n",
    "        if code in keggs:\r\n",
    "            response = requests.get(f\"http://rest.kegg.jp/get/{code.replace('KEGG:', '')}\")\r\n",
    "            response_text = response.text\r\n",
    "            response_text = response_text.split(\"\\n\")\r\n",
    "            for line in response_text:\r\n",
    "                if line.startswith(\"DESCRIPTION\"):\r\n",
    "                    descr_file.write(code + \"\\t\" + line[11:].strip() + \"\\n\")\r\n",
    "            labels_file.write(code + \"\\t\" + label + \"\\n\")"
   ],
   "outputs": [
    {
     "output_type": "stream",
     "name": "stderr",
     "text": [
      "100%|██████████| 345/345 [02:50<00:00,  2.03it/s]\n"
     ]
    }
   ],
   "metadata": {}
  },
  {
   "cell_type": "markdown",
   "source": [
    "## REACTOME"
   ],
   "metadata": {}
  },
  {
   "cell_type": "code",
   "execution_count": 5,
   "source": [
    "for code in tqdm(reactomes):\r\n",
    "    code = code.replace(\"REACTOME:\", \"\")\r\n",
    "    response = requests.get(f\"https://reactome.org/ContentService/data/query/{code}\")\r\n",
    "    try:\r\n",
    "        response_json = response.json()\r\n",
    "        labels_file.write(\"REACTOME:\" + code + \"\\t\" + response_json[\"name\"][0] + \"\\n\")\r\n",
    "\r\n",
    "        if \"summation\" in response_json and response_json[\"summation\"] != None:\r\n",
    "            descr_file.write(\"REACTOME:\" + code + \"\\t\" + response_json[\"summation\"][0][\"text\"] + \"\\n\")\r\n",
    "        else:\r\n",
    "            print(code)\r\n",
    "    except Exception as e:\r\n",
    "        print(f\"EXCEPTION {e} {code}\")"
   ],
   "outputs": [
    {
     "output_type": "stream",
     "name": "stderr",
     "text": [
      "  4%|▍         | 71/1860 [00:32<14:12,  2.10it/s]EXCEPTION 'name' R-HSA-977442\n",
      "  6%|▌         | 104/1860 [00:45<11:38,  2.51it/s]EXCEPTION 'name' R-HSA-1980148\n",
      "  6%|▌         | 108/1860 [00:46<10:18,  2.83it/s]EXCEPTION 'name' R-HSA-629602\n",
      "  6%|▌         | 113/1860 [00:48<11:07,  2.62it/s]EXCEPTION 'name' R-HSA-69298\n",
      "  6%|▋         | 119/1860 [00:51<11:52,  2.44it/s]EXCEPTION 'name' R-HSA-71182\n",
      "  7%|▋         | 122/1860 [00:52<11:35,  2.50it/s]EXCEPTION 'name' R-HSA-194223\n",
      "  7%|▋         | 135/1860 [00:57<11:19,  2.54it/s]EXCEPTION 'name' R-HSA-73847\n",
      "  7%|▋         | 136/1860 [00:58<10:56,  2.63it/s]EXCEPTION 'name' R-HSA-70153\n",
      "  8%|▊         | 143/1860 [01:00<10:54,  2.62it/s]EXCEPTION 'name' R-HSA-1222352\n",
      "  9%|▉         | 167/1860 [01:09<10:08,  2.78it/s]EXCEPTION 'name' R-HSA-428808\n",
      " 10%|█         | 191/1860 [01:19<11:30,  2.42it/s]EXCEPTION 'name' R-HSA-174800\n",
      " 11%|█         | 196/1860 [01:21<11:07,  2.49it/s]EXCEPTION 'name' R-HSA-1980150\n",
      " 11%|█         | 209/1860 [01:26<10:21,  2.66it/s]EXCEPTION 'name' R-HSA-2408517\n",
      " 14%|█▍        | 261/1860 [01:46<09:56,  2.68it/s]EXCEPTION 'name' R-HSA-8855121\n",
      " 14%|█▍        | 268/1860 [01:49<10:30,  2.53it/s]EXCEPTION 'name' R-HSA-975298\n",
      " 17%|█▋        | 308/1860 [02:06<09:40,  2.67it/s]EXCEPTION 'name' R-HSA-168253\n",
      " 19%|█▉        | 354/1860 [02:25<09:59,  2.51it/s]EXCEPTION 'name' R-HSA-70614\n",
      " 21%|██        | 395/1860 [02:42<10:03,  2.43it/s]EXCEPTION 'name' R-HSA-1234162\n",
      " 21%|██▏       | 396/1860 [02:42<09:27,  2.58it/s]EXCEPTION 'name' R-HSA-191647\n",
      " 27%|██▋       | 505/1860 [03:25<08:30,  2.65it/s]EXCEPTION 'name' R-HSA-1300652\n",
      " 31%|███       | 574/1860 [03:53<08:36,  2.49it/s]EXCEPTION 'name' R-HSA-109688\n",
      " 34%|███▎      | 626/1860 [04:14<07:15,  2.83it/s]EXCEPTION 'name' R-HSA-69300\n",
      " 36%|███▌      | 667/1860 [04:30<07:24,  2.69it/s]EXCEPTION 'name' R-HSA-73848\n",
      " 39%|███▉      | 732/1860 [04:56<06:49,  2.75it/s]EXCEPTION 'name' R-HSA-168254\n",
      " 40%|████      | 746/1860 [05:02<07:04,  2.62it/s]EXCEPTION 'name' R-HSA-73923\n",
      " 40%|████      | 747/1860 [05:02<06:51,  2.70it/s]EXCEPTION 'name' R-HSA-68874\n",
      " 48%|████▊     | 887/1860 [06:01<06:28,  2.50it/s]EXCEPTION 'name' R-HSA-442745\n",
      " 48%|████▊     | 891/1860 [06:03<06:02,  2.67it/s]EXCEPTION 'name' R-HSA-421837\n",
      " 48%|████▊     | 901/1860 [06:07<06:19,  2.53it/s]EXCEPTION 'name' R-HSA-171052\n",
      " 49%|████▉     | 914/1860 [06:12<06:10,  2.55it/s]EXCEPTION 'name' R-HSA-2993913\n",
      " 50%|█████     | 930/1860 [06:18<05:50,  2.65it/s]EXCEPTION 'name' R-HSA-69304\n",
      " 57%|█████▋    | 1058/1860 [07:12<05:09,  2.59it/s]EXCEPTION 'name' R-HSA-428790\n",
      " 59%|█████▊    | 1092/1860 [07:26<04:49,  2.65it/s]EXCEPTION 'name' R-HSA-1300644\n",
      " 64%|██████▍   | 1188/1860 [08:07<04:16,  2.62it/s]EXCEPTION 'name' R-HSA-194840\n",
      " 68%|██████▊   | 1274/1860 [08:41<03:37,  2.70it/s]EXCEPTION 'name' R-HSA-211227\n",
      " 70%|███████   | 1308/1860 [08:54<03:41,  2.49it/s]EXCEPTION 'name' R-HSA-157881\n",
      " 71%|███████   | 1317/1860 [08:58<03:27,  2.62it/s]EXCEPTION 'name' R-HSA-265473\n",
      " 76%|███████▋  | 1422/1860 [09:41<02:43,  2.67it/s]EXCEPTION 'name' R-HSA-504046\n",
      " 78%|███████▊  | 1444/1860 [09:50<02:44,  2.53it/s]EXCEPTION 'name' R-HSA-375170\n",
      " 79%|███████▉  | 1465/1860 [09:59<02:32,  2.59it/s]EXCEPTION 'name' R-HSA-203765\n",
      " 80%|███████▉  | 1486/1860 [10:07<02:21,  2.65it/s]EXCEPTION 'name' R-HSA-442717\n",
      " 86%|████████▋ | 1605/1860 [10:56<01:33,  2.73it/s]EXCEPTION 'name' R-HSA-428776\n",
      " 87%|████████▋ | 1623/1860 [11:03<01:31,  2.60it/s]EXCEPTION 'name' R-HSA-2262749\n",
      " 89%|████████▉ | 1660/1860 [11:17<01:18,  2.54it/s]EXCEPTION 'name' R-HSA-997269\n",
      " 90%|████████▉ | 1665/1860 [11:19<01:22,  2.37it/s]EXCEPTION 'name' R-HSA-73777\n",
      " 91%|█████████ | 1695/1860 [11:31<00:59,  2.78it/s]EXCEPTION 'name' R-HSA-977441\n",
      " 92%|█████████▏| 1702/1860 [11:34<00:57,  2.75it/s]EXCEPTION 'name' R-HSA-69229\n",
      " 95%|█████████▍| 1765/1860 [12:00<00:38,  2.47it/s]EXCEPTION 'name' R-HSA-6788656\n",
      " 97%|█████████▋| 1803/1860 [12:16<00:22,  2.49it/s]EXCEPTION 'name' R-HSA-166054\n",
      " 97%|█████████▋| 1806/1860 [12:17<00:21,  2.48it/s]EXCEPTION 'name' R-HSA-5357572\n",
      " 99%|█████████▊| 1835/1860 [12:28<00:09,  2.60it/s]EXCEPTION 'name' R-HSA-535734\n",
      "100%|██████████| 1860/1860 [12:38<00:00,  2.45it/s]\n"
     ]
    }
   ],
   "metadata": {
    "tags": []
   }
  },
  {
   "cell_type": "code",
   "execution_count": 12,
   "source": [
    "labels_file.close()\r\n",
    "descr_file.close()"
   ],
   "outputs": [],
   "metadata": {}
  },
  {
   "cell_type": "markdown",
   "source": [
    "# RDF graph"
   ],
   "metadata": {}
  },
  {
   "cell_type": "code",
   "execution_count": 40,
   "source": [
    "identifiers = Namespace(\"http://identifiers.org/\")\r\n",
    "OBO = Namespace(\"http://www.geneontology.org/formats/oboInOwl#\")\r\n",
    "ai = Namespace(\"http://ai-strategies.org/ns/\")\r\n",
    "\r\n",
    "g = rdflib.Graph()\r\n",
    "\r\n",
    "g.bind(\"id\", identifiers)\r\n",
    "g.bind(\"rdfs\", RDFS)\r\n",
    "g.bind(\"oboInOwl\", OBO)\r\n",
    "g.bind(\"ai\", ai)"
   ],
   "outputs": [],
   "metadata": {}
  },
  {
   "cell_type": "code",
   "execution_count": 42,
   "source": [
    "\r\n",
    "ids2label = load_tsv_id_file(\"./workspace/labels/obl_labels.txt\")\r\n",
    "ids2descr = load_tsv_id_file(\"./workspace/labels/obl_descriptions.txt\")\r\n",
    "\r\n",
    "for node in tqdm(all_nodes):\r\n",
    "\r\n",
    "    type = \"\"\r\n",
    "    if node.startswith(\"NCBIGENE:\"):\r\n",
    "        type = \"Gene\"\r\n",
    "    elif node.startswith(\"PUBCHEM.COMPOUND:\"):\r\n",
    "        type = \"Drug\"\r\n",
    "    elif node.startswith(\"UBERON:\"):\r\n",
    "        type = \"Anatomy\"\r\n",
    "    elif node.startswith(\"DOID:\"):\r\n",
    "        type = \"Disease\"\r\n",
    "    elif node.startswith(\"GO:\"):\r\n",
    "        type = \"GO\"\r\n",
    "    elif node.startswith(\"HP:\"):\r\n",
    "        type = \"Phenotype\"\r\n",
    "    elif node.startswith(\"CL:\"):\r\n",
    "        type = \"Anatomy\"\r\n",
    "    elif node.startswith(\"KEGG:\"):\r\n",
    "        type = \"Pathway\"\r\n",
    "    elif node.startswith(\"REACTOME:\"):\r\n",
    "        type = \"Pathway\"\r\n",
    "    \r\n",
    "    if node in ids2label:\r\n",
    "        g.add((\r\n",
    "            identifiers.term(node),\r\n",
    "            RDFS.label,\r\n",
    "            rdflib.Literal(ids2label[node], datatype=XSD.string)\r\n",
    "        ))\r\n",
    "\r\n",
    "        g.add((\r\n",
    "            identifiers.term(node),\r\n",
    "            RDF.type,\r\n",
    "            rdflib.Literal(type, datatype=XSD.string)\r\n",
    "        ))\r\n",
    "\r\n",
    "        g.add((\r\n",
    "            identifiers.term(node),\r\n",
    "            ai.wwwresource,\r\n",
    "            rdflib.Literal(\"http://identifiers.org/\" + node, datatype=XSD.string)\r\n",
    "        ))\r\n",
    "\r\n",
    "        if node in ids2descr:\r\n",
    "            g.add((\r\n",
    "                identifiers.term(node),\r\n",
    "                RDFS.comment,\r\n",
    "                rdflib.Literal(ids2descr[node], datatype=XSD.string)\r\n",
    "            ))"
   ],
   "outputs": [
    {
     "output_type": "stream",
     "name": "stderr",
     "text": [
      "  1%|          | 1219/184667 [00:00<00:30, 6108.13it/s]\n",
      "100%|██████████| 184667/184667 [00:33<00:00, 5550.32it/s]\n"
     ]
    }
   ],
   "metadata": {}
  },
  {
   "cell_type": "code",
   "execution_count": 43,
   "source": [
    "relations = {\r\n",
    "    \"GENE_PHENOTYPE\": \"associated with\",\r\n",
    "    \"GENE_EXPRESSED_ANATOMY\": \"is expressed in\",\r\n",
    "    \"GENE_BINDING_GENE\": \"is in an binding interaction with\",\r\n",
    "    \"GENE_UNDEREXPRESSED_ANATOMY\": \"can be underexpressed in\",\r\n",
    "    \"GENE_GENE\": \"is in an interaction with\",\r\n",
    "    \"GENE_REACTION_GENE\": \"is in a reaction with\",\r\n",
    "    \"DRUG_REACTION_GENE\": \"is reacting with\",\r\n",
    "    \"GENE_GO\": \"associated with\",\r\n",
    "    \"GENE_PATHWAY\": \"is part of pathway\",\r\n",
    "    \"GENE_OVEREXPRESSED_ANATOMY\": \"can be overexpressed in\",\r\n",
    "    \"GENE_DRUG\": \"associated with\",\r\n",
    "    \"DRUG_CATALYSIS_GENE\": \"is catalyzed by\",\r\n",
    "    \"DRUG_BINDING_GENE\": \"is binding to\",\r\n",
    "    \"PART_OF\": \"is part of\",\r\n",
    "    \"GENE_INHIBITION_GENE\": \"is in an inhibition interaction with\",\r\n",
    "    \"DRUG_INHIBITION_GENE\": \"is inhibiting\",\r\n",
    "    \"DRUG_PHENOTYPE\": \"can cause\",\r\n",
    "    \"IS_A\": \"is a\",\r\n",
    "    \"GENE_CATALYSIS_GENE\": \"is in an catalysis interaction with\",\r\n",
    "    \"GENE_ACTIVATION_GENE\": \"is in an activation interaction with\",\r\n",
    "    \"DIS_DRUG\": \"treated with (indication)\",\r\n",
    "    \"DRUG_ACTIVATION_GENE\": \"is activating\",\r\n",
    "    \"DIS_PHENOTYPE\": \"has overservable characteristic\",\r\n",
    "    \"GENE_PTMOD_GENE\": \"is in an ptmod interaction with\",\r\n",
    "    \"DRUG_BINDINH_GENE\": \"is binding to and inhibiting\",\r\n",
    "    \"GENE_DIS\": \"associated with\",\r\n",
    "    \"DRUG_BINDACT_GENE\": \"is binding to and activating\",\r\n",
    "    \"GENE_EXPRESSION_GENE\": \"is in an expression interaction with\"\r\n",
    "}\r\n",
    "\r\n",
    "for relation, label in relations.items():\r\n",
    "    g.add((\r\n",
    "        identifiers.term(relation),\r\n",
    "        RDFS.label,\r\n",
    "        rdflib.Literal(label, datatype=XSD.string)\r\n",
    "    ))"
   ],
   "outputs": [],
   "metadata": {}
  },
  {
   "cell_type": "markdown",
   "source": [
    "## Serialize graph"
   ],
   "metadata": {}
  },
  {
   "cell_type": "code",
   "execution_count": 44,
   "source": [
    "\r\n",
    "g.serialize(graph_path + \"/obl_with_labels.ttl\",format=\"turtle\")"
   ],
   "outputs": [],
   "metadata": {}
  },
  {
   "cell_type": "code",
   "execution_count": 45,
   "source": [
    "outfile = open(graph_path + \"/obl_with_labels.ttl\", 'a')\r\n",
    "\r\n",
    "def read_set(path, typ):\r\n",
    "    content = None\r\n",
    "    with open(path) as f:\r\n",
    "        content = f.readlines()\r\n",
    "    content = [x.strip() for x in content]\r\n",
    "    for line in content:\r\n",
    "        head,rel,tail = line.split(\"\\t\")\r\n",
    "        outfile.write(f\"<<<http://identifiers.org/{head}> <http://identifiers.org/{rel}> <http://identifiers.org/{tail}>>> ai:split ai:{typ} . \" + \"\\n\")\r\n",
    "\r\n",
    "read_set(train_path, 'train')\r\n",
    "read_set(test_path, 'test')\r\n",
    "read_set(valid_path, 'valid')\r\n",
    "\r\n",
    "outfile.close()"
   ],
   "outputs": [],
   "metadata": {}
  },
  {
   "cell_type": "code",
   "execution_count": null,
   "source": [],
   "outputs": [],
   "metadata": {}
  }
 ],
 "metadata": {
  "kernelspec": {
   "name": "python3",
   "display_name": "Python 3.8.5 64-bit ('base': conda)"
  },
  "language_info": {
   "codemirror_mode": {
    "name": "ipython",
    "version": 3
   },
   "file_extension": ".py",
   "mimetype": "text/x-python",
   "name": "python",
   "nbconvert_exporter": "python",
   "pygments_lexer": "ipython3",
   "version": "3.8.5"
  },
  "metadata": {
   "interpreter": {
    "hash": "e7c37ba80a6e54a3d63188245ab5de6a3e0d381993bcb1990a7020536fc2299e"
   }
  },
  "interpreter": {
   "hash": "975f4df5516a56fef896b4876c749fefbbf20f04919a2b7836d7dfd2ac100f7a"
  }
 },
 "nbformat": 4,
 "nbformat_minor": 2
}